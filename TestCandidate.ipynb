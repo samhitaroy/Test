{
  "cells": [
    {
      "cell_type": "code",
      "execution_count": 1,
      "id": "e5813c07-0f79-493e-bd8f-492b23974564",
      "metadata": {
        "id": "e5813c07-0f79-493e-bd8f-492b23974564"
      },
      "outputs": [],
      "source": [
        "'''\n",
        "Import all necessary packages here\n",
        "'''\n",
        "import pathlib"
      ]
    },
    {
      "cell_type": "code",
      "execution_count": null,
      "metadata": {
        "id": "KcET0hNrHveg"
      },
      "outputs": [],
      "source": [
        "############################################ Task 1 ############################################\n",
        "'''\n",
        "Create a function that generates a csv file containing the following data set\n",
        "\n",
        "data = [\n",
        "    {'state': 'Baden-Württemberg', 'size_km2': 35751, 'population': 11069533},\n",
        "    {'state': 'Bavaria', 'size_km2': 70550, 'population': 13076721},\n",
        "    {'state': 'Berlin', 'size_km2': 891, 'population': 3669491},\n",
        "    {'state': 'Brandenburg', 'size_km2': 29479, 'population': 2511917},\n",
        "    {'state': 'Bremen', 'size_km2': 419, 'population': 682986},\n",
        "    {'state': 'Hamburg', 'size_km2': 755, 'population': 1841179},\n",
        "    {'state': 'Hesse', 'size_km2': 21115, 'population': 6287155},\n",
        "    {'state': 'Lower Saxony', 'size_km2': 47616, 'population': 7982448},\n",
        "    {'state': 'Mecklenburg-Vorpommern', 'size_km2': 23214, 'population': 1609675},\n",
        "    {'state': 'North Rhine-Westphalia', 'size_km2': 34085, 'population': 17947221},\n",
        "    {'state': 'Rhineland-Palatinate', 'size_km2': 19853, 'population': 4110580},\n",
        "    {'state': 'Saarland', 'size_km2': 2570, 'population': 986887},\n",
        "    {'state': 'Saxony', 'size_km2': 18416, 'population': 4084851},\n",
        "    {'state': 'Saxony-Anhalt', 'size_km2': 20451, 'population': 2192685},\n",
        "    {'state': 'Schleswig-Holstein', 'size_km2': 15799, 'population': 2903773},\n",
        "    {'state': 'Thuringia', 'size_km2': 16172, 'population': 2143145}\n",
        "]\n",
        "\n",
        "'''\n",
        "# Write the data to a CSV file using the csv package\n",
        "csvFilename = 'Test.csv'\n",
        "fieldnames = ['state', 'size_km2', 'population']\n",
        "\n"
      ],
      "id": "KcET0hNrHveg"
    },
    {
      "cell_type": "code",
      "execution_count": null,
      "metadata": {
        "id": "oHEgqCn0Hveg"
      },
      "outputs": [],
      "source": [
        "############################################ Task 2 ############################################\n",
        "'''\n",
        "Create a function to load data from the above csv file of a specific header and print the data as a list\n",
        "'''\n",
        "# Read data from csv file using the csv package\n",
        "\n",
        "        "
      ],
      "id": "oHEgqCn0Hveg"
    },
    {
      "cell_type": "code",
      "source": [
        "############################################ Task 3 ############################################\n",
        "'''\n",
        "Redo Task 3 using pandas\n",
        "'''\n"
      ],
      "metadata": {
        "id": "kwhS6cyBHveh"
      },
      "execution_count": null,
      "outputs": [],
      "id": "kwhS6cyBHveh"
    },
    {
      "cell_type": "code",
      "source": [
        "############################################ Task 4 ############################################\n",
        "'''\n",
        "Rewrite Task 2 and 3 as functions. For Task 2 function it should get file name and data as inputs \n",
        "and for Task 3 it should get file name and the heading column as input  \n",
        "\n",
        "'''"
      ],
      "metadata": {
        "id": "SD8H1LGlEuhi"
      },
      "execution_count": null,
      "outputs": [],
      "id": "SD8H1LGlEuhi"
    },
    {
      "cell_type": "code",
      "source": [
        "############################################ Task 5 ############################################\n",
        "'''\n",
        "Redo Task 4 but with the inputs passed as command line arguments\n",
        "\n",
        "'''"
      ],
      "metadata": {
        "id": "aXOTME84GyID"
      },
      "execution_count": null,
      "outputs": [],
      "id": "aXOTME84GyID"
    },
    {
      "cell_type": "code",
      "source": [
        "############################################ Task 6 ############################################\n",
        "'''\n",
        "Create a class which has the above two functions (Task 2, 3) as its methods and accepts \n",
        "the name of the csv file in its constructor\n",
        "\n",
        "'''\n",
        "\n"
      ],
      "metadata": {
        "id": "k7U3g0LiBGr-"
      },
      "execution_count": null,
      "outputs": [],
      "id": "k7U3g0LiBGr-"
    },
    {
      "cell_type": "code",
      "source": [
        "############################################ Task 7 ############################################\n",
        "'''\n",
        "Plot the data from the csv file (Size vs Population) and save it.\n",
        "\n",
        "''' "
      ],
      "metadata": {
        "id": "wVeVoUDkHveh"
      },
      "execution_count": null,
      "outputs": [],
      "id": "wVeVoUDkHveh"
    }
  ],
  "metadata": {
    "kernelspec": {
      "display_name": "Python 3",
      "language": "python",
      "name": "python3"
    },
    "language_info": {
      "codemirror_mode": {
        "name": "ipython",
        "version": 3
      },
      "file_extension": ".py",
      "mimetype": "text/x-python",
      "name": "python",
      "nbconvert_exporter": "python",
      "pygments_lexer": "ipython3",
      "version": "3.6.9"
    },
    "colab": {
      "provenance": [],
      "toc_visible": true
    }
  },
  "nbformat": 4,
  "nbformat_minor": 5
}