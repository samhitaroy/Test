{
  "cells": [
    {
      "cell_type": "code",
      "execution_count": 4,
      "id": "e5813c07-0f79-493e-bd8f-492b23974564",
      "metadata": {
        "id": "e5813c07-0f79-493e-bd8f-492b23974564"
      },
      "outputs": [],
      "source": [
        "'''\n",
        "Import all necessary packages here\n",
        "'''\n",
        "import numpy as np\n",
        "import csv"
      ]
    },
    {
      "cell_type": "code",
      "execution_count": 7,
      "id": "9a633352-2057-4ed3-9e6c-71e128c013fa",
      "metadata": {
        "id": "9a633352-2057-4ed3-9e6c-71e128c013fa"
      },
      "outputs": [],
      "source": [
        "############################################ Task 1 ############################################\n",
        "'''\n",
        "Create a function that generates a csv file containing the following data set\n",
        "\n",
        "data = [\n",
        "    {'state': 'Baden-Württemberg', 'size_km2': 35751, 'population': 11069533},\n",
        "    {'state': 'Bavaria', 'size_km2': 70550, 'population': 13076721},\n",
        "    {'state': 'Berlin', 'size_km2': 891, 'population': 3669491},\n",
        "    {'state': 'Brandenburg', 'size_km2': 29479, 'population': 2511917},\n",
        "    {'state': 'Bremen', 'size_km2': 419, 'population': 682986},\n",
        "    {'state': 'Hamburg', 'size_km2': 755, 'population': 1841179},\n",
        "    {'state': 'Hesse', 'size_km2': 21115, 'population': 6287155},\n",
        "    {'state': 'Lower Saxony', 'size_km2': 47616, 'population': 7982448},\n",
        "    {'state': 'Mecklenburg-Vorpommern', 'size_km2': 23214, 'population': 1609675},\n",
        "    {'state': 'North Rhine-Westphalia', 'size_km2': 34085, 'population': 17947221},\n",
        "    {'state': 'Rhineland-Palatinate', 'size_km2': 19853, 'population': 4110580},\n",
        "    {'state': 'Saarland', 'size_km2': 2570, 'population': 986887},\n",
        "    {'state': 'Saxony', 'size_km2': 18416, 'population': 4084851},\n",
        "    {'state': 'Saxony-Anhalt', 'size_km2': 20451, 'population': 2192685},\n",
        "    {'state': 'Schleswig-Holstein', 'size_km2': 15799, 'population': 2903773},\n",
        "    {'state': 'Thuringia', 'size_km2': 16172, 'population': 2143145}\n",
        "]\n",
        "\n",
        "'''\n",
        "# Write the data to a CSV file\n",
        "csvFilename = 'german_states.csv'\n",
        "fieldnames = ['state', 'size_km2', 'population']\n",
        "\n"
      ]
    },
    {
      "cell_type": "code",
      "execution_count": null,
      "id": "e2a2ecc1-bc58-4c50-9f7f-a005ca021d7a",
      "metadata": {
        "id": "e2a2ecc1-bc58-4c50-9f7f-a005ca021d7a"
      },
      "outputs": [],
      "source": [
        "############################################ Task 2 ############################################\n",
        "'''\n",
        "Create a function to load data from the above csv file of a specific header and print the data\n",
        "'''"
      ]
    }
  ],
  "metadata": {
    "kernelspec": {
      "display_name": "Python 3",
      "language": "python",
      "name": "python3"
    },
    "language_info": {
      "codemirror_mode": {
        "name": "ipython",
        "version": 3
      },
      "file_extension": ".py",
      "mimetype": "text/x-python",
      "name": "python",
      "nbconvert_exporter": "python",
      "pygments_lexer": "ipython3",
      "version": "3.6.9"
    },
    "colab": {
      "provenance": []
    }
  },
  "nbformat": 4,
  "nbformat_minor": 5
}